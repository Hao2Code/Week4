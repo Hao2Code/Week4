{
 "cells": [
  {
   "cell_type": "code",
   "execution_count": 1,
   "id": "2bc45360",
   "metadata": {},
   "outputs": [],
   "source": [
    "import os\n",
    "os.chdir(\"C:/Users/haoha/Downloads/Week 4\")"
   ]
  },
  {
   "cell_type": "code",
   "execution_count": 20,
   "id": "508e9ca9",
   "metadata": {},
   "outputs": [
    {
     "data": {
      "text/plain": [
       "True"
      ]
     },
     "execution_count": 20,
     "metadata": {},
     "output_type": "execute_result"
    }
   ],
   "source": [
    "import sys\n",
    "# Python 3.7 is required\n",
    "assert sys.version_info >= (3,7)\n",
    "\n",
    "import cv2 as cv\n",
    "import numpy as np\n",
    "\n",
    "# For reproducibility,\n",
    "np.random.seed(99)\n",
    "\n",
    "# Make sure that optimization is enabled\n",
    "if not cv.useOptimized():\n",
    "    cv.setUseOptimized(True)\n",
    "\n",
    "cv.useOptimized()"
   ]
  },
  {
   "cell_type": "markdown",
   "id": "f1fff533",
   "metadata": {},
   "source": [
    "# Question 1\n",
    "## Method 1"
   ]
  },
  {
   "cell_type": "code",
   "execution_count": 3,
   "id": "062a6760",
   "metadata": {},
   "outputs": [],
   "source": [
    "img = cv.imread('lena.jfif')\n",
    "gray = cv.imread('lena.jfif',0)\n",
    "\n",
    "cv.imshow('color',img)\n",
    "cv.imshow('grayscale',gray)\n",
    "cv.waitKey(0)\n",
    "cv.destroyAllWindows()"
   ]
  },
  {
   "cell_type": "markdown",
   "id": "c146eadd",
   "metadata": {},
   "source": [
    "## Method 2"
   ]
  },
  {
   "cell_type": "code",
   "execution_count": 9,
   "id": "89aa943b",
   "metadata": {},
   "outputs": [],
   "source": [
    "#second method\n",
    "img = cv.imread('lena.jfif')\n",
    "gray = cv.imread('lena.jfif', 0)\n",
    "\n",
    "#make the grayscale image to have 3 channels\n",
    "gray2 = cv.cvtColor(gray, cv.COLOR_GRAY2RGB)\n",
    "\n",
    "#resize the image \n",
    "img = cv.resize(img, (0,0), None, .5, .5)\n",
    "gray = cv.resize(gray2, (0,0), None, .5, .5)\n",
    "\n",
    "imgFinal = np.concatenate((img, gray), axis=1)\n",
    "\n",
    "cv.imshow('Img', imgFinal)\n",
    "cv.waitKey(0)\n",
    "cv.destroyAllWindows()"
   ]
  },
  {
   "cell_type": "markdown",
   "id": "55d7d297",
   "metadata": {},
   "source": [
    "# Question 2"
   ]
  },
  {
   "cell_type": "code",
   "execution_count": 11,
   "id": "f100b070",
   "metadata": {},
   "outputs": [
    {
     "name": "stdout",
     "output_type": "stream",
     "text": [
      "1080.0 1920.0 60.0\n"
     ]
    }
   ],
   "source": [
    "#get info of the video first\n",
    "vid = cv.VideoCapture('img_pexels.mp4')\n",
    "\n",
    "width = vid.get(3)\n",
    "height = vid.get(4)\n",
    "frame_rate = vid.get(5)\n",
    "\n",
    "print (width,height,frame_rate)"
   ]
  },
  {
   "cell_type": "code",
   "execution_count": 25,
   "id": "cb22e6f3",
   "metadata": {},
   "outputs": [
    {
     "name": "stdout",
     "output_type": "stream",
     "text": [
      "0.0 0.0 0.0\n"
     ]
    }
   ],
   "source": [
    "vid = cv.VideoCapture('img_pexels.mp4')\n",
    "\n",
    "fourcc = cv.VideoWriter_fourcc(*'MP4V')\n",
    "\n",
    "if vid.isOpened():\n",
    "    resizedVid = cv.VideoWriter('smaller_img_pexels.mp4',fourcc, 30.0, (300, 400), True)\n",
    "\n",
    "while vid.isOpened():\n",
    "    ret, frame = vid.read()\n",
    "    if ret == True:\n",
    "        rescaledFrame = cv.resize(frame, (300, 400), interpolation = cv.INTER_CUBIC)\n",
    "        resizedVid.write(rescaledFrame)\n",
    "    else:\n",
    "        break\n",
    "\n",
    "vid.release()\n",
    "resizedVid.release()\n",
    "cv.destroyAllWindows()\n",
    "\n"
   ]
  },
  {
   "cell_type": "code",
   "execution_count": 26,
   "id": "cc9fbb7b",
   "metadata": {},
   "outputs": [
    {
     "name": "stdout",
     "output_type": "stream",
     "text": [
      "300.0 400.0 30.0\n"
     ]
    }
   ],
   "source": [
    "resizedVid = cv.VideoCapture('smaller_img_pexels.mp4')\n",
    "\n",
    "width = resizedVid.get(3)\n",
    "height = resizedVid.get(4)\n",
    "frame_rate = resizedVid.get(5)\n",
    "\n",
    "print (width,height,frame_rate)"
   ]
  },
  {
   "cell_type": "markdown",
   "id": "4cc93b4b",
   "metadata": {},
   "source": [
    "# Question 3"
   ]
  },
  {
   "cell_type": "code",
   "execution_count": 29,
   "id": "3f6a737e",
   "metadata": {},
   "outputs": [],
   "source": [
    "noisyImage = np.array(np.random.rand(350,350,3))\n",
    "cv.imshow('Noisy image', noisyImage)\n",
    "cv.waitKey(0)\n",
    "cv.destroyAllWindows()"
   ]
  },
  {
   "cell_type": "code",
   "execution_count": null,
   "id": "54a6c0e0",
   "metadata": {},
   "outputs": [],
   "source": []
  }
 ],
 "metadata": {
  "kernelspec": {
   "display_name": "Python 3 (ipykernel)",
   "language": "python",
   "name": "python3"
  },
  "language_info": {
   "codemirror_mode": {
    "name": "ipython",
    "version": 3
   },
   "file_extension": ".py",
   "mimetype": "text/x-python",
   "name": "python",
   "nbconvert_exporter": "python",
   "pygments_lexer": "ipython3",
   "version": "3.9.12"
  }
 },
 "nbformat": 4,
 "nbformat_minor": 5
}
